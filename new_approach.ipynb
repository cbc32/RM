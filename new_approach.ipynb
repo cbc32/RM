{
 "cells": [
  {
   "cell_type": "code",
   "execution_count": 1,
   "metadata": {},
   "outputs": [],
   "source": [
    "import numpy as np\n",
    "import pandas as pd\n",
    "import loglikelihood as myfile"
   ]
  },
  {
   "cell_type": "code",
   "execution_count": 2,
   "metadata": {},
   "outputs": [
    {
     "name": "stdout",
     "output_type": "stream",
     "text": [
      "[[   0.     0.     0.     0. ]\n",
      " [   4.     3.2   95.  3000. ]]\n"
     ]
    }
   ],
   "source": [
    "ind = range(1,31)\n",
    "x1 = [0] + [8 if 6<=i and i<=15 else 4 for i in ind]\n",
    "x2 = [0] + [2.9 if 6<=i and i<=20 else 2.2 if 26<=i else 3.2 for i in ind]\n",
    "x3 = [0] + [95 if i<=5 or (11<=i and i<=15) and i<=20 else 135 if 26<=i else 60 for i in ind]\n",
    "x4 = [0] + [3000-300*((i-1)%5) for i in ind]\n",
    "x = np.array([x1,x2,x3,x4]).T\n",
    "print(x[:2])"
   ]
  },
  {
   "cell_type": "code",
   "execution_count": 18,
   "metadata": {},
   "outputs": [
    {
     "data": {
      "text/html": [
       "<div>\n",
       "<style scoped>\n",
       "    .dataframe tbody tr th:only-of-type {\n",
       "        vertical-align: middle;\n",
       "    }\n",
       "\n",
       "    .dataframe tbody tr th {\n",
       "        vertical-align: top;\n",
       "    }\n",
       "\n",
       "    .dataframe thead th {\n",
       "        text-align: right;\n",
       "    }\n",
       "</style>\n",
       "<table border=\"1\" class=\"dataframe\">\n",
       "  <thead>\n",
       "    <tr style=\"text-align: right;\">\n",
       "      <th></th>\n",
       "      <th>Assortment</th>\n",
       "      <th>Probability</th>\n",
       "    </tr>\n",
       "  </thead>\n",
       "  <tbody>\n",
       "    <tr>\n",
       "      <th>0</th>\n",
       "      <td>[0, 2]</td>\n",
       "      <td>[0.6171762553809882, 0.382823744619012]</td>\n",
       "    </tr>\n",
       "    <tr>\n",
       "      <th>1</th>\n",
       "      <td>[0, 22, 27]</td>\n",
       "      <td>[0.49010203287014026, 0.3856208197783525, 0.12...</td>\n",
       "    </tr>\n",
       "  </tbody>\n",
       "</table>\n",
       "</div>"
      ],
      "text/plain": [
       "    Assortment                                        Probability\n",
       "0       [0, 2]            [0.6171762553809882, 0.382823744619012]\n",
       "1  [0, 22, 27]  [0.49010203287014026, 0.3856208197783525, 0.12..."
      ]
     },
     "execution_count": 18,
     "metadata": {},
     "output_type": "execute_result"
    }
   ],
   "source": [
    "df = pd.read_csv(\"clean_train.csv\")\n",
    "\n",
    "df[\"Assortment\"] = df[\"Assortment\"].apply(lambda x: [int(i) for i in x[1:-1].split(\",\")])\n",
    "df[\"Probability\"] = df[\"Probability\"].apply(lambda x: [float(i) for i in x[1:-1].split(\",\")])\n",
    "df.head(2)"
   ]
  },
  {
   "cell_type": "code",
   "execution_count": 4,
   "metadata": {},
   "outputs": [
    {
     "name": "stdout",
     "output_type": "stream",
     "text": [
      "[[0.61717626 0.         0.38282374 0.         0.         0.\n",
      "  0.         0.         0.         0.         0.         0.\n",
      "  0.         0.         0.         0.         0.         0.\n",
      "  0.         0.         0.         0.         0.         0.\n",
      "  0.         0.         0.         0.         0.         0.\n",
      "  0.        ]\n",
      " [0.49010203 0.         0.         0.         0.         0.\n",
      "  0.         0.         0.         0.         0.         0.\n",
      "  0.         0.         0.         0.         0.         0.\n",
      "  0.         0.         0.         0.         0.38562082 0.\n",
      "  0.         0.         0.         0.12427715 0.         0.\n",
      "  0.        ]]\n"
     ]
    }
   ],
   "source": [
    "y = myfile.y_np(df[\"Assortment\"], df[\"Probability\"])\n",
    "print(y[:2])"
   ]
  },
  {
   "cell_type": "code",
   "execution_count": 5,
   "metadata": {},
   "outputs": [
    {
     "data": {
      "text/plain": [
       "array([ 3.26311685e-01,  4.93574566e-01, -2.35577402e-02, -4.80445945e-04])"
      ]
     },
     "execution_count": 5,
     "metadata": {},
     "output_type": "execute_result"
    }
   ],
   "source": [
    "# all data used as train\n",
    "beta = myfile.calc_beta(x,y)\n",
    "beta"
   ]
  },
  {
   "cell_type": "code",
   "execution_count": 6,
   "metadata": {},
   "outputs": [],
   "source": [
    "import biogeme_nice as myfile1"
   ]
  },
  {
   "cell_type": "code",
   "execution_count": 7,
   "metadata": {},
   "outputs": [
    {
     "name": "stdout",
     "output_type": "stream",
     "text": [
      "{'B1': 0.3263116854084238, 'B2': 0.49357456645769804, 'B3': -0.02355774017834474, 'B4': -0.00048044594543504777}\n"
     ]
    }
   ],
   "source": [
    "beta_dict = myfile1.get_beta_dict(beta)\n",
    "print(beta_dict)"
   ]
  },
  {
   "cell_type": "code",
   "execution_count": 8,
   "metadata": {},
   "outputs": [
    {
     "data": {
      "text/html": [
       "<div>\n",
       "<style scoped>\n",
       "    .dataframe tbody tr th:only-of-type {\n",
       "        vertical-align: middle;\n",
       "    }\n",
       "\n",
       "    .dataframe tbody tr th {\n",
       "        vertical-align: top;\n",
       "    }\n",
       "\n",
       "    .dataframe thead th {\n",
       "        text-align: right;\n",
       "    }\n",
       "</style>\n",
       "<table border=\"1\" class=\"dataframe\">\n",
       "  <thead>\n",
       "    <tr style=\"text-align: right;\">\n",
       "      <th></th>\n",
       "      <th>Assortment</th>\n",
       "      <th>Pred</th>\n",
       "    </tr>\n",
       "  </thead>\n",
       "  <tbody>\n",
       "    <tr>\n",
       "      <th>0</th>\n",
       "      <td>[0, 2]</td>\n",
       "      <td>[0.6571240323839554, 0.34287596761604455]</td>\n",
       "    </tr>\n",
       "    <tr>\n",
       "      <th>1</th>\n",
       "      <td>[0, 22, 27]</td>\n",
       "      <td>[0.4321128379943111, 0.514246973950253, 0.0536...</td>\n",
       "    </tr>\n",
       "  </tbody>\n",
       "</table>\n",
       "</div>"
      ],
      "text/plain": [
       "    Assortment                                               Pred\n",
       "0       [0, 2]          [0.6571240323839554, 0.34287596761604455]\n",
       "1  [0, 22, 27]  [0.4321128379943111, 0.514246973950253, 0.0536..."
      ]
     },
     "execution_count": 8,
     "metadata": {},
     "output_type": "execute_result"
    }
   ],
   "source": [
    "# predictions on train data\n",
    "preds = myfile1.pred_df(beta_dict, x, df[\"Assortment\"])\n",
    "preds.head(2)"
   ]
  },
  {
   "cell_type": "code",
   "execution_count": 9,
   "metadata": {},
   "outputs": [
    {
     "data": {
      "text/html": [
       "<div>\n",
       "<style scoped>\n",
       "    .dataframe tbody tr th:only-of-type {\n",
       "        vertical-align: middle;\n",
       "    }\n",
       "\n",
       "    .dataframe tbody tr th {\n",
       "        vertical-align: top;\n",
       "    }\n",
       "\n",
       "    .dataframe thead th {\n",
       "        text-align: right;\n",
       "    }\n",
       "</style>\n",
       "<table border=\"1\" class=\"dataframe\">\n",
       "  <thead>\n",
       "    <tr style=\"text-align: right;\">\n",
       "      <th></th>\n",
       "      <th>Assortment</th>\n",
       "      <th>Pred</th>\n",
       "      <th>Truth</th>\n",
       "      <th>MAE</th>\n",
       "    </tr>\n",
       "  </thead>\n",
       "  <tbody>\n",
       "    <tr>\n",
       "      <th>0</th>\n",
       "      <td>[0, 2]</td>\n",
       "      <td>[0.6571240323839554, 0.34287596761604455]</td>\n",
       "      <td>[0.6171762553809882, 0.382823744619012]</td>\n",
       "      <td>0.039948</td>\n",
       "    </tr>\n",
       "    <tr>\n",
       "      <th>1</th>\n",
       "      <td>[0, 22, 27]</td>\n",
       "      <td>[0.4321128379943111, 0.514246973950253, 0.0536...</td>\n",
       "      <td>[0.49010203287014026, 0.3856208197783525, 0.12...</td>\n",
       "      <td>0.085751</td>\n",
       "    </tr>\n",
       "    <tr>\n",
       "      <th>2</th>\n",
       "      <td>[0, 7, 17, 22]</td>\n",
       "      <td>[0.14281817463394353, 0.5406453819937983, 0.14...</td>\n",
       "      <td>[0.17383055343275639, 0.44812960860117884, 0.2...</td>\n",
       "      <td>0.091340</td>\n",
       "    </tr>\n",
       "    <tr>\n",
       "      <th>3</th>\n",
       "      <td>[0, 17, 7, 21, 14]</td>\n",
       "      <td>[0.11041827420587069, 0.11332050919270566, 0.4...</td>\n",
       "      <td>[0.1338762504510885, 0.1933610050447225, 0.365...</td>\n",
       "      <td>0.047841</td>\n",
       "    </tr>\n",
       "    <tr>\n",
       "      <th>4</th>\n",
       "      <td>[0, 7, 2, 25, 30, 13]</td>\n",
       "      <td>[0.10811334671297132, 0.40926851069254827, 0.0...</td>\n",
       "      <td>[0.09520137647807961, 0.4258881190119289, 0.02...</td>\n",
       "      <td>0.035678</td>\n",
       "    </tr>\n",
       "    <tr>\n",
       "      <th>...</th>\n",
       "      <td>...</td>\n",
       "      <td>...</td>\n",
       "      <td>...</td>\n",
       "      <td>...</td>\n",
       "    </tr>\n",
       "    <tr>\n",
       "      <th>2495</th>\n",
       "      <td>[0, 13]</td>\n",
       "      <td>[0.34280834909980323, 0.6571916509001968]</td>\n",
       "      <td>[0.37037705537265336, 0.6296229446273469]</td>\n",
       "      <td>0.027569</td>\n",
       "    </tr>\n",
       "    <tr>\n",
       "      <th>2496</th>\n",
       "      <td>[0, 23, 17]</td>\n",
       "      <td>[0.2940426341859483, 0.40418611218813205, 0.30...</td>\n",
       "      <td>[0.25241095695520893, 0.10976818151988744, 0.6...</td>\n",
       "      <td>0.224033</td>\n",
       "    </tr>\n",
       "    <tr>\n",
       "      <th>2497</th>\n",
       "      <td>[0, 11, 10, 29]</td>\n",
       "      <td>[0.11854048585682368, 0.17033909516641485, 0.6...</td>\n",
       "      <td>[0.13702096921422796, 0.17458857209162085, 0.6...</td>\n",
       "      <td>0.011365</td>\n",
       "    </tr>\n",
       "    <tr>\n",
       "      <th>2498</th>\n",
       "      <td>[0, 16, 25, 13, 1]</td>\n",
       "      <td>[0.16417110927529088, 0.1458706062968337, 0.30...</td>\n",
       "      <td>[0.167781680054737, 0.29015312192773385, 0.148...</td>\n",
       "      <td>0.081898</td>\n",
       "    </tr>\n",
       "    <tr>\n",
       "      <th>2499</th>\n",
       "      <td>[0, 22, 10, 15, 4, 17]</td>\n",
       "      <td>[0.08127807940373934, 0.09672706456921237, 0.4...</td>\n",
       "      <td>[0.0784077752482451, 0.03763805678406826, 0.51...</td>\n",
       "      <td>0.026782</td>\n",
       "    </tr>\n",
       "  </tbody>\n",
       "</table>\n",
       "<p>2500 rows × 4 columns</p>\n",
       "</div>"
      ],
      "text/plain": [
       "                  Assortment  \\\n",
       "0                     [0, 2]   \n",
       "1                [0, 22, 27]   \n",
       "2             [0, 7, 17, 22]   \n",
       "3         [0, 17, 7, 21, 14]   \n",
       "4      [0, 7, 2, 25, 30, 13]   \n",
       "...                      ...   \n",
       "2495                 [0, 13]   \n",
       "2496             [0, 23, 17]   \n",
       "2497         [0, 11, 10, 29]   \n",
       "2498      [0, 16, 25, 13, 1]   \n",
       "2499  [0, 22, 10, 15, 4, 17]   \n",
       "\n",
       "                                                   Pred  \\\n",
       "0             [0.6571240323839554, 0.34287596761604455]   \n",
       "1     [0.4321128379943111, 0.514246973950253, 0.0536...   \n",
       "2     [0.14281817463394353, 0.5406453819937983, 0.14...   \n",
       "3     [0.11041827420587069, 0.11332050919270566, 0.4...   \n",
       "4     [0.10811334671297132, 0.40926851069254827, 0.0...   \n",
       "...                                                 ...   \n",
       "2495          [0.34280834909980323, 0.6571916509001968]   \n",
       "2496  [0.2940426341859483, 0.40418611218813205, 0.30...   \n",
       "2497  [0.11854048585682368, 0.17033909516641485, 0.6...   \n",
       "2498  [0.16417110927529088, 0.1458706062968337, 0.30...   \n",
       "2499  [0.08127807940373934, 0.09672706456921237, 0.4...   \n",
       "\n",
       "                                                  Truth       MAE  \n",
       "0               [0.6171762553809882, 0.382823744619012]  0.039948  \n",
       "1     [0.49010203287014026, 0.3856208197783525, 0.12...  0.085751  \n",
       "2     [0.17383055343275639, 0.44812960860117884, 0.2...  0.091340  \n",
       "3     [0.1338762504510885, 0.1933610050447225, 0.365...  0.047841  \n",
       "4     [0.09520137647807961, 0.4258881190119289, 0.02...  0.035678  \n",
       "...                                                 ...       ...  \n",
       "2495          [0.37037705537265336, 0.6296229446273469]  0.027569  \n",
       "2496  [0.25241095695520893, 0.10976818151988744, 0.6...  0.224033  \n",
       "2497  [0.13702096921422796, 0.17458857209162085, 0.6...  0.011365  \n",
       "2498  [0.167781680054737, 0.29015312192773385, 0.148...  0.081898  \n",
       "2499  [0.0784077752482451, 0.03763805678406826, 0.51...  0.026782  \n",
       "\n",
       "[2500 rows x 4 columns]"
      ]
     },
     "execution_count": 9,
     "metadata": {},
     "output_type": "execute_result"
    }
   ],
   "source": [
    "# show MAE for each row\n",
    "preds[\"Truth\"] = df[\"Probability\"]\n",
    "preds[\"MAE\"] = [myfile1.mae(preds[\"Truth\"][i], preds[\"Pred\"][i]) for i in range(len(preds))]\n",
    "preds"
   ]
  },
  {
   "cell_type": "code",
   "execution_count": 12,
   "metadata": {},
   "outputs": [
    {
     "data": {
      "text/html": [
       "<div>\n",
       "<style scoped>\n",
       "    .dataframe tbody tr th:only-of-type {\n",
       "        vertical-align: middle;\n",
       "    }\n",
       "\n",
       "    .dataframe tbody tr th {\n",
       "        vertical-align: top;\n",
       "    }\n",
       "\n",
       "    .dataframe thead th {\n",
       "        text-align: right;\n",
       "    }\n",
       "</style>\n",
       "<table border=\"1\" class=\"dataframe\">\n",
       "  <thead>\n",
       "    <tr style=\"text-align: right;\">\n",
       "      <th></th>\n",
       "      <th>Assortment</th>\n",
       "      <th>Pred</th>\n",
       "      <th>Truth</th>\n",
       "      <th>MAE</th>\n",
       "    </tr>\n",
       "  </thead>\n",
       "  <tbody>\n",
       "    <tr>\n",
       "      <th>191</th>\n",
       "      <td>[0, 20, 23]</td>\n",
       "      <td>[0.2527780784811816, 0.3997573809750656, 0.347...</td>\n",
       "      <td>[0.14189009103509673, 0.8207708964274361, 0.03...</td>\n",
       "      <td>0.280676</td>\n",
       "    </tr>\n",
       "    <tr>\n",
       "      <th>1086</th>\n",
       "      <td>[0, 20, 23]</td>\n",
       "      <td>[0.2527780784811816, 0.3997573809750656, 0.347...</td>\n",
       "      <td>[0.14189009103509673, 0.8207708964274361, 0.03...</td>\n",
       "      <td>0.280676</td>\n",
       "    </tr>\n",
       "    <tr>\n",
       "      <th>1426</th>\n",
       "      <td>[0, 21, 20]</td>\n",
       "      <td>[0.2768710268591276, 0.2852696570557488, 0.437...</td>\n",
       "      <td>[0.15204222316960048, 0.009869654687396121, 0....</td>\n",
       "      <td>0.266819</td>\n",
       "    </tr>\n",
       "    <tr>\n",
       "      <th>276</th>\n",
       "      <td>[0, 20, 21]</td>\n",
       "      <td>[0.2768710268591276, 0.43785931608512363, 0.28...</td>\n",
       "      <td>[0.15204222316960048, 0.8380881221430034, 0.00...</td>\n",
       "      <td>0.266819</td>\n",
       "    </tr>\n",
       "    <tr>\n",
       "      <th>2236</th>\n",
       "      <td>[0, 19, 24]</td>\n",
       "      <td>[0.25272456253085435, 0.3460254399689922, 0.40...</td>\n",
       "      <td>[0.16751296154674614, 0.7314159240885767, 0.10...</td>\n",
       "      <td>0.256927</td>\n",
       "    </tr>\n",
       "    <tr>\n",
       "      <th>886</th>\n",
       "      <td>[0, 24, 19]</td>\n",
       "      <td>[0.25272456253085435, 0.40124999750015344, 0.3...</td>\n",
       "      <td>[0.16751296154674614, 0.10107111436467739, 0.7...</td>\n",
       "      <td>0.256927</td>\n",
       "    </tr>\n",
       "    <tr>\n",
       "      <th>1976</th>\n",
       "      <td>[0, 24, 19]</td>\n",
       "      <td>[0.25272456253085435, 0.40124999750015344, 0.3...</td>\n",
       "      <td>[0.16751296154674614, 0.10107111436467739, 0.7...</td>\n",
       "      <td>0.256927</td>\n",
       "    </tr>\n",
       "    <tr>\n",
       "      <th>46</th>\n",
       "      <td>[0, 24, 19]</td>\n",
       "      <td>[0.25272456253085435, 0.40124999750015344, 0.3...</td>\n",
       "      <td>[0.16751296154674614, 0.10107111436467739, 0.7...</td>\n",
       "      <td>0.256927</td>\n",
       "    </tr>\n",
       "    <tr>\n",
       "      <th>2056</th>\n",
       "      <td>[0, 19, 23]</td>\n",
       "      <td>[0.26711089322873754, 0.36572291756841113, 0.3...</td>\n",
       "      <td>[0.1803663835402363, 0.7502619514112845, 0.069...</td>\n",
       "      <td>0.256359</td>\n",
       "    </tr>\n",
       "    <tr>\n",
       "      <th>2041</th>\n",
       "      <td>[0, 22, 19]</td>\n",
       "      <td>[0.2809576123384376, 0.3343608179380959, 0.384...</td>\n",
       "      <td>[0.19057901459639814, 0.04250368080738384, 0.7...</td>\n",
       "      <td>0.254824</td>\n",
       "    </tr>\n",
       "  </tbody>\n",
       "</table>\n",
       "</div>"
      ],
      "text/plain": [
       "       Assortment                                               Pred  \\\n",
       "191   [0, 20, 23]  [0.2527780784811816, 0.3997573809750656, 0.347...   \n",
       "1086  [0, 20, 23]  [0.2527780784811816, 0.3997573809750656, 0.347...   \n",
       "1426  [0, 21, 20]  [0.2768710268591276, 0.2852696570557488, 0.437...   \n",
       "276   [0, 20, 21]  [0.2768710268591276, 0.43785931608512363, 0.28...   \n",
       "2236  [0, 19, 24]  [0.25272456253085435, 0.3460254399689922, 0.40...   \n",
       "886   [0, 24, 19]  [0.25272456253085435, 0.40124999750015344, 0.3...   \n",
       "1976  [0, 24, 19]  [0.25272456253085435, 0.40124999750015344, 0.3...   \n",
       "46    [0, 24, 19]  [0.25272456253085435, 0.40124999750015344, 0.3...   \n",
       "2056  [0, 19, 23]  [0.26711089322873754, 0.36572291756841113, 0.3...   \n",
       "2041  [0, 22, 19]  [0.2809576123384376, 0.3343608179380959, 0.384...   \n",
       "\n",
       "                                                  Truth       MAE  \n",
       "191   [0.14189009103509673, 0.8207708964274361, 0.03...  0.280676  \n",
       "1086  [0.14189009103509673, 0.8207708964274361, 0.03...  0.280676  \n",
       "1426  [0.15204222316960048, 0.009869654687396121, 0....  0.266819  \n",
       "276   [0.15204222316960048, 0.8380881221430034, 0.00...  0.266819  \n",
       "2236  [0.16751296154674614, 0.7314159240885767, 0.10...  0.256927  \n",
       "886   [0.16751296154674614, 0.10107111436467739, 0.7...  0.256927  \n",
       "1976  [0.16751296154674614, 0.10107111436467739, 0.7...  0.256927  \n",
       "46    [0.16751296154674614, 0.10107111436467739, 0.7...  0.256927  \n",
       "2056  [0.1803663835402363, 0.7502619514112845, 0.069...  0.256359  \n",
       "2041  [0.19057901459639814, 0.04250368080738384, 0.7...  0.254824  "
      ]
     },
     "execution_count": 12,
     "metadata": {},
     "output_type": "execute_result"
    }
   ],
   "source": [
    "preds.sort_values(\"MAE\", ascending=False).head(10)"
   ]
  },
  {
   "cell_type": "code",
   "execution_count": 10,
   "metadata": {},
   "outputs": [
    {
     "data": {
      "text/plain": [
       "0.07447838945958508"
      ]
     },
     "execution_count": 10,
     "metadata": {},
     "output_type": "execute_result"
    }
   ],
   "source": [
    "# get mean MAE of each row\n",
    "# rows of different sized assortment contribute equally, assumed to be equally difficult to predict\n",
    "myfile1.sparse_mae(df[\"Probability\"], preds[\"Pred\"])"
   ]
  },
  {
   "cell_type": "code",
   "execution_count": 26,
   "metadata": {},
   "outputs": [
    {
     "data": {
      "text/plain": [
       "0.07364777317594033"
      ]
     },
     "execution_count": 26,
     "metadata": {},
     "output_type": "execute_result"
    }
   ],
   "source": [
    "# MAE of betas trained on first 80% and tested on last 20%\n",
    "split = int(0.8*len(df))\n",
    "beta = myfile.calc_beta(x,y[:split])\n",
    "beta_dict = myfile1.get_beta_dict(beta)\n",
    "test = df[split:].reset_index()\n",
    "test[\"Pred\"] = myfile1.pred_df(beta_dict, x, test[\"Assortment\"])[\"Pred\"]\n",
    "\n",
    "myfile1.sparse_mae(test[\"Probability\"], test[\"Pred\"])"
   ]
  }
 ],
 "metadata": {
  "kernelspec": {
   "display_name": "base",
   "language": "python",
   "name": "python3"
  },
  "language_info": {
   "codemirror_mode": {
    "name": "ipython",
    "version": 3
   },
   "file_extension": ".py",
   "mimetype": "text/x-python",
   "name": "python",
   "nbconvert_exporter": "python",
   "pygments_lexer": "ipython3",
   "version": "3.9.12"
  },
  "orig_nbformat": 4
 },
 "nbformat": 4,
 "nbformat_minor": 2
}
