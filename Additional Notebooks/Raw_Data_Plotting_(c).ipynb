{
 "cells": [
  {
   "cell_type": "code",
   "execution_count": 1,
   "id": "7T5eODlRFSxd",
   "metadata": {
    "id": "7T5eODlRFSxd"
   },
   "outputs": [],
   "source": [
    "import pandas as pd\n",
    "import numpy as np"
   ]
  },
  {
   "cell_type": "code",
   "execution_count": 2,
   "id": "72cc3395",
   "metadata": {
    "id": "72cc3395",
    "outputId": "4d752d5e-5d49-4f26-9fd7-0d518f168243"
   },
   "outputs": [
    {
     "data": {
      "text/html": [
       "<div>\n",
       "<style scoped>\n",
       "    .dataframe tbody tr th:only-of-type {\n",
       "        vertical-align: middle;\n",
       "    }\n",
       "\n",
       "    .dataframe tbody tr th {\n",
       "        vertical-align: top;\n",
       "    }\n",
       "\n",
       "    .dataframe thead th {\n",
       "        text-align: right;\n",
       "    }\n",
       "</style>\n",
       "<table border=\"1\" class=\"dataframe\">\n",
       "  <thead>\n",
       "    <tr style=\"text-align: right;\">\n",
       "      <th></th>\n",
       "      <th>Assortment</th>\n",
       "      <th>Probability</th>\n",
       "    </tr>\n",
       "  </thead>\n",
       "  <tbody>\n",
       "    <tr>\n",
       "      <th>0</th>\n",
       "      <td>[0.0, 2.0]</td>\n",
       "      <td>[0.6171762553809882, 0.382823744619012]</td>\n",
       "    </tr>\n",
       "    <tr>\n",
       "      <th>1</th>\n",
       "      <td>[0.0, 22.0, 27.0]</td>\n",
       "      <td>[0.49010203287014026, 0.3856208197783525, 0.12...</td>\n",
       "    </tr>\n",
       "    <tr>\n",
       "      <th>2</th>\n",
       "      <td>[0.0, 7.0, 17.0, 22.0]</td>\n",
       "      <td>[0.17383055343275639, 0.44812960860117884, 0.2...</td>\n",
       "    </tr>\n",
       "    <tr>\n",
       "      <th>3</th>\n",
       "      <td>[0.0, 17.0, 7.0, 21.0, 14.0]</td>\n",
       "      <td>[0.1338762504510885, 0.1933610050447225, 0.365...</td>\n",
       "    </tr>\n",
       "    <tr>\n",
       "      <th>4</th>\n",
       "      <td>[0.0, 7.0, 2.0, 25.0, 30.0, 13.0]</td>\n",
       "      <td>[0.09520137647807961, 0.4258881190119289, 0.02...</td>\n",
       "    </tr>\n",
       "    <tr>\n",
       "      <th>...</th>\n",
       "      <td>...</td>\n",
       "      <td>...</td>\n",
       "    </tr>\n",
       "    <tr>\n",
       "      <th>2495</th>\n",
       "      <td>[0.0, 13.0]</td>\n",
       "      <td>[0.37037705537265336, 0.6296229446273469]</td>\n",
       "    </tr>\n",
       "    <tr>\n",
       "      <th>2496</th>\n",
       "      <td>[0.0, 23.0, 17.0]</td>\n",
       "      <td>[0.25241095695520893, 0.10976818151988744, 0.6...</td>\n",
       "    </tr>\n",
       "    <tr>\n",
       "      <th>2497</th>\n",
       "      <td>[0.0, 11.0, 10.0, 29.0]</td>\n",
       "      <td>[0.13702096921422796, 0.17458857209162085, 0.6...</td>\n",
       "    </tr>\n",
       "    <tr>\n",
       "      <th>2498</th>\n",
       "      <td>[0.0, 16.0, 25.0, 13.0, 1.0]</td>\n",
       "      <td>[0.167781680054737, 0.29015312192773385, 0.148...</td>\n",
       "    </tr>\n",
       "    <tr>\n",
       "      <th>2499</th>\n",
       "      <td>[0.0, 22.0, 10.0, 15.0, 4.0, 17.0]</td>\n",
       "      <td>[0.0784077752482451, 0.03763805678406826, 0.51...</td>\n",
       "    </tr>\n",
       "  </tbody>\n",
       "</table>\n",
       "<p>2500 rows × 2 columns</p>\n",
       "</div>"
      ],
      "text/plain": [
       "                              Assortment  \\\n",
       "0                             [0.0, 2.0]   \n",
       "1                      [0.0, 22.0, 27.0]   \n",
       "2                 [0.0, 7.0, 17.0, 22.0]   \n",
       "3           [0.0, 17.0, 7.0, 21.0, 14.0]   \n",
       "4      [0.0, 7.0, 2.0, 25.0, 30.0, 13.0]   \n",
       "...                                  ...   \n",
       "2495                         [0.0, 13.0]   \n",
       "2496                   [0.0, 23.0, 17.0]   \n",
       "2497             [0.0, 11.0, 10.0, 29.0]   \n",
       "2498        [0.0, 16.0, 25.0, 13.0, 1.0]   \n",
       "2499  [0.0, 22.0, 10.0, 15.0, 4.0, 17.0]   \n",
       "\n",
       "                                            Probability  \n",
       "0               [0.6171762553809882, 0.382823744619012]  \n",
       "1     [0.49010203287014026, 0.3856208197783525, 0.12...  \n",
       "2     [0.17383055343275639, 0.44812960860117884, 0.2...  \n",
       "3     [0.1338762504510885, 0.1933610050447225, 0.365...  \n",
       "4     [0.09520137647807961, 0.4258881190119289, 0.02...  \n",
       "...                                                 ...  \n",
       "2495          [0.37037705537265336, 0.6296229446273469]  \n",
       "2496  [0.25241095695520893, 0.10976818151988744, 0.6...  \n",
       "2497  [0.13702096921422796, 0.17458857209162085, 0.6...  \n",
       "2498  [0.167781680054737, 0.29015312192773385, 0.148...  \n",
       "2499  [0.0784077752482451, 0.03763805678406826, 0.51...  \n",
       "\n",
       "[2500 rows x 2 columns]"
      ]
     },
     "execution_count": 2,
     "metadata": {},
     "output_type": "execute_result"
    }
   ],
   "source": [
    "#import the relevent packages\n",
    "import re\n",
    "\n",
    "#install the assortment dataset, read in the data and regex split the input by lines\\\n",
    "\n",
    "f1 = open(\"assortment.txt\")  #change address accordingly\n",
    "assString = f1.read()\n",
    "assList = re.split(\"\\n\",assString)\n",
    "\n",
    "#convert the list to dataframe \n",
    "df = pd.DataFrame({'Assortment' :assList}) \n",
    "df.head(10)\n",
    "df = df.dropna()\n",
    "df.describe()\n",
    "\n",
    "#install the probability dataset, read in the data and regex split the input by lines\n",
    "f2 = open(\"probability.txt\")    #change address accordingly\n",
    "msString = f2.read()\n",
    "msList = re.split(\"\\n\",msString)\n",
    "\n",
    "#convert the list to dataframe \n",
    "ms = pd.DataFrame({'prob' :msList}) \n",
    "ms.head(10)\n",
    "ms = ms.dropna()\n",
    "ms.describe()\n",
    "\n",
    "#bind two df together\n",
    "df[\"Probability\"] = ms[\"prob\"]\n",
    "df.describe()\n",
    "\n",
    "#remove the empty cells\n",
    "df = df[df[\"Assortment\"]!=\"\"]\n",
    "df.describe()\n",
    "\n",
    "#function to change string to array\n",
    "def toArr(x):\n",
    "    return [float(i) for i in x[1:-1].split(\",\")]\n",
    "\n",
    "#apply this function vertically to all columns\n",
    "df = df.applymap(lambda x: toArr(x))\n",
    "df"
   ]
  },
  {
   "cell_type": "code",
   "execution_count": 3,
   "id": "59c8fe35",
   "metadata": {
    "id": "59c8fe35",
    "outputId": "646464a4-c857-4ef0-f64e-dd4df1c72d37"
   },
   "outputs": [
    {
     "data": {
      "text/plain": [
       "2.0"
      ]
     },
     "execution_count": 3,
     "metadata": {},
     "output_type": "execute_result"
    }
   ],
   "source": [
    "df_2 = df[df['Assortment'].apply(len) <= 2]\n",
    "df_2 = df_2.sort_values('Assortment')\n",
    "df_2['Assortment'][0][1]"
   ]
  },
  {
   "cell_type": "code",
   "execution_count": 4,
   "id": "5398f044",
   "metadata": {},
   "outputs": [
    {
     "data": {
      "text/html": [
       "<div>\n",
       "<style scoped>\n",
       "    .dataframe tbody tr th:only-of-type {\n",
       "        vertical-align: middle;\n",
       "    }\n",
       "\n",
       "    .dataframe tbody tr th {\n",
       "        vertical-align: top;\n",
       "    }\n",
       "\n",
       "    .dataframe thead th {\n",
       "        text-align: right;\n",
       "    }\n",
       "</style>\n",
       "<table border=\"1\" class=\"dataframe\">\n",
       "  <thead>\n",
       "    <tr style=\"text-align: right;\">\n",
       "      <th></th>\n",
       "      <th>Assortment</th>\n",
       "      <th>Probability</th>\n",
       "    </tr>\n",
       "  </thead>\n",
       "  <tbody>\n",
       "    <tr>\n",
       "      <th>2110</th>\n",
       "      <td>[0.0, 1.0]</td>\n",
       "      <td>[0.654406942982526, 0.34559305701747417]</td>\n",
       "    </tr>\n",
       "    <tr>\n",
       "      <th>2170</th>\n",
       "      <td>[0.0, 1.0]</td>\n",
       "      <td>[0.654406942982526, 0.34559305701747417]</td>\n",
       "    </tr>\n",
       "    <tr>\n",
       "      <th>2130</th>\n",
       "      <td>[0.0, 1.0]</td>\n",
       "      <td>[0.654406942982526, 0.34559305701747417]</td>\n",
       "    </tr>\n",
       "    <tr>\n",
       "      <th>1580</th>\n",
       "      <td>[0.0, 1.0]</td>\n",
       "      <td>[0.654406942982526, 0.34559305701747417]</td>\n",
       "    </tr>\n",
       "    <tr>\n",
       "      <th>1045</th>\n",
       "      <td>[0.0, 1.0]</td>\n",
       "      <td>[0.654406942982526, 0.34559305701747417]</td>\n",
       "    </tr>\n",
       "    <tr>\n",
       "      <th>...</th>\n",
       "      <td>...</td>\n",
       "      <td>...</td>\n",
       "    </tr>\n",
       "    <tr>\n",
       "      <th>630</th>\n",
       "      <td>[0.0, 30.0]</td>\n",
       "      <td>[0.7116249158598886, 0.2883750841401116]</td>\n",
       "    </tr>\n",
       "    <tr>\n",
       "      <th>1410</th>\n",
       "      <td>[0.0, 30.0]</td>\n",
       "      <td>[0.7116249158598886, 0.2883750841401116]</td>\n",
       "    </tr>\n",
       "    <tr>\n",
       "      <th>475</th>\n",
       "      <td>[0.0, 30.0]</td>\n",
       "      <td>[0.7116249158598886, 0.2883750841401116]</td>\n",
       "    </tr>\n",
       "    <tr>\n",
       "      <th>195</th>\n",
       "      <td>[0.0, 30.0]</td>\n",
       "      <td>[0.7116249158598886, 0.2883750841401116]</td>\n",
       "    </tr>\n",
       "    <tr>\n",
       "      <th>1055</th>\n",
       "      <td>[0.0, 30.0]</td>\n",
       "      <td>[0.7116249158598886, 0.2883750841401116]</td>\n",
       "    </tr>\n",
       "  </tbody>\n",
       "</table>\n",
       "<p>500 rows × 2 columns</p>\n",
       "</div>"
      ],
      "text/plain": [
       "       Assortment                               Probability\n",
       "2110   [0.0, 1.0]  [0.654406942982526, 0.34559305701747417]\n",
       "2170   [0.0, 1.0]  [0.654406942982526, 0.34559305701747417]\n",
       "2130   [0.0, 1.0]  [0.654406942982526, 0.34559305701747417]\n",
       "1580   [0.0, 1.0]  [0.654406942982526, 0.34559305701747417]\n",
       "1045   [0.0, 1.0]  [0.654406942982526, 0.34559305701747417]\n",
       "...           ...                                       ...\n",
       "630   [0.0, 30.0]  [0.7116249158598886, 0.2883750841401116]\n",
       "1410  [0.0, 30.0]  [0.7116249158598886, 0.2883750841401116]\n",
       "475   [0.0, 30.0]  [0.7116249158598886, 0.2883750841401116]\n",
       "195   [0.0, 30.0]  [0.7116249158598886, 0.2883750841401116]\n",
       "1055  [0.0, 30.0]  [0.7116249158598886, 0.2883750841401116]\n",
       "\n",
       "[500 rows x 2 columns]"
      ]
     },
     "execution_count": 4,
     "metadata": {},
     "output_type": "execute_result"
    }
   ],
   "source": [
    "df_2"
   ]
  },
  {
   "cell_type": "code",
   "execution_count": 5,
   "id": "1b9ff740",
   "metadata": {
    "id": "1b9ff740"
   },
   "outputs": [],
   "source": [
    "df_01= df_2[df_2['Assortment'].apply(lambda x: x[1] == 1)]\n",
    "df_02= df_2[df_2['Assortment'].apply(lambda x: x[1] == 2)]\n",
    "df_03= df_2[df_2['Assortment'].apply(lambda x: x[1] == 3)]\n",
    "df_04= df_2[df_2['Assortment'].apply(lambda x: x[1] == 4)]\n",
    "df_05= df_2[df_2['Assortment'].apply(lambda x: x[1] == 5)]\n",
    "df_06= df_2[df_2['Assortment'].apply(lambda x: x[1] == 6)]"
   ]
  },
  {
   "cell_type": "code",
   "execution_count": 6,
   "id": "8eb1c811",
   "metadata": {
    "id": "8eb1c811",
    "outputId": "7cedf460-7340-4cc3-8c80-ccc4e3fd3ec6"
   },
   "outputs": [
    {
     "name": "stdout",
     "output_type": "stream",
     "text": [
      "df_01 27\n",
      "df_02 14\n",
      "df_03 14\n",
      "df_04 7\n",
      "df_05 8\n"
     ]
    }
   ],
   "source": [
    "for i in range(1, 6):\n",
    "    df_name = 'df_0{}'.format(i)  \n",
    "    df_length = len(eval(df_name))  \n",
    "    print(df_name, df_length)"
   ]
  },
  {
   "cell_type": "code",
   "execution_count": 7,
   "id": "2e0cc0fb",
   "metadata": {},
   "outputs": [
    {
     "data": {
      "text/html": [
       "<div>\n",
       "<style scoped>\n",
       "    .dataframe tbody tr th:only-of-type {\n",
       "        vertical-align: middle;\n",
       "    }\n",
       "\n",
       "    .dataframe tbody tr th {\n",
       "        vertical-align: top;\n",
       "    }\n",
       "\n",
       "    .dataframe thead th {\n",
       "        text-align: right;\n",
       "    }\n",
       "</style>\n",
       "<table border=\"1\" class=\"dataframe\">\n",
       "  <thead>\n",
       "    <tr style=\"text-align: right;\">\n",
       "      <th></th>\n",
       "      <th>Assortment</th>\n",
       "      <th>Probability</th>\n",
       "    </tr>\n",
       "  </thead>\n",
       "  <tbody>\n",
       "    <tr>\n",
       "      <th>2110</th>\n",
       "      <td>[0.0, 1.0]</td>\n",
       "      <td>[0.654406942982526, 0.34559305701747417]</td>\n",
       "    </tr>\n",
       "  </tbody>\n",
       "</table>\n",
       "</div>"
      ],
      "text/plain": [
       "      Assortment                               Probability\n",
       "2110  [0.0, 1.0]  [0.654406942982526, 0.34559305701747417]"
      ]
     },
     "execution_count": 7,
     "metadata": {},
     "output_type": "execute_result"
    }
   ],
   "source": [
    "df_01.head(1) # check the unique value"
   ]
  },
  {
   "cell_type": "code",
   "execution_count": 8,
   "id": "67eec42c",
   "metadata": {
    "id": "67eec42c",
    "outputId": "f002e5b2-0245-4ecb-a789-a53502233dda"
   },
   "outputs": [
    {
     "name": "stdout",
     "output_type": "stream",
     "text": [
      "Unique probabilities for 1: [(0.654406942982526, 0.34559305701747417)]\n",
      "Unique probabilities for 2: [(0.6171762553809882, 0.382823744619012)]\n",
      "Unique probabilities for 3: [(0.5770967690161186, 0.42290323098388155)]\n",
      "Unique probabilities for 4: [(0.5375828219032884, 0.46241717809671173)]\n",
      "Unique probabilities for 5: [(0.49597170607353724, 0.5040282939264629)]\n"
     ]
    }
   ],
   "source": [
    "unique_probs_01 = df_01['Probability'].apply(tuple).unique()\n",
    "print('Unique probabilities for 1:', unique_probs_01)\n",
    "unique_probs_02 = df_02['Probability'].apply(tuple).unique()\n",
    "print('Unique probabilities for 2:', unique_probs_02)\n",
    "unique_probs_03 = df_03['Probability'].apply(tuple).unique()\n",
    "print('Unique probabilities for 3:', unique_probs_03)\n",
    "unique_probs_04 = df_04['Probability'].apply(tuple).unique()\n",
    "print('Unique probabilities for 4:',unique_probs_04)\n",
    "unique_probs_05 = df_05['Probability'].apply(tuple).unique()\n",
    "print('Unique probabilities for 5:', unique_probs_05)"
   ]
  },
  {
   "cell_type": "code",
   "execution_count": 9,
   "id": "4edfed1c",
   "metadata": {
    "id": "4edfed1c",
    "outputId": "3c6f560f-4fc2-4473-d5cc-7713075486a0"
   },
   "outputs": [
    {
     "data": {
      "text/plain": [
       "0.34559305701747417"
      ]
     },
     "execution_count": 9,
     "metadata": {},
     "output_type": "execute_result"
    }
   ],
   "source": [
    "unique_probs_01[0][1]"
   ]
  },
  {
   "cell_type": "code",
   "execution_count": 10,
   "id": "f1f9f6f2",
   "metadata": {
    "id": "f1f9f6f2",
    "outputId": "b39de3d9-098d-42bb-88c6-85e1c4012356"
   },
   "outputs": [
    {
     "name": "stdout",
     "output_type": "stream",
     "text": [
      "[0.34559305701747417, 0.382823744619012, 0.42290323098388155, 0.46241717809671173, 0.5040282939264629]\n"
     ]
    },
    {
     "data": {
      "image/png": "[encoded data removed]",
      "text/plain": [
       "<Figure size 432x288 with 1 Axes>"
      ]
     },
     "metadata": {
      "needs_background": "light"
     },
     "output_type": "display_data"
    },
    {
     "name": "stdout",
     "output_type": "stream",
     "text": [
      "[1036.7791710524225, 1033.6241104713324, 1014.9677543613158, 971.0760740030946, 907.2509290676331]\n"
     ]
    },
    {
     "data": {
      "image/png": "[encoded data removed]",
      "text/plain": [
       "<Figure size 432x288 with 1 Axes>"
      ]
     },
     "metadata": {
      "needs_background": "light"
     },
     "output_type": "display_data"
    }
   ],
   "source": [
    "import matplotlib.pyplot as plt\n",
    "\n",
    "prices = [3000, 2700, 2400, 2100, 1800]\n",
    "probs = [unique_probs_01[0][1],unique_probs_02[0][1],unique_probs_03[0][1],unique_probs_04[0][1],unique_probs_05[0][1]]\n",
    "print(probs)\n",
    "\n",
    "\n",
    "plt.plot(prices, probs)\n",
    "plt.xlabel('Price')\n",
    "plt.ylabel('probs')\n",
    "plt.show()\n",
    "\n",
    "\n",
    "revenues = list(map(lambda x, y: x * y, prices, probs))\n",
    "\n",
    "# Plot the revenue values\n",
    "plt.plot(prices, revenues)\n",
    "plt.xlabel('Price')\n",
    "plt.ylabel('Revenue')\n",
    "print (revenues)"
   ]
  },
  {
   "cell_type": "code",
   "execution_count": 11,
   "id": "85bd2aa1",
   "metadata": {
    "id": "85bd2aa1",
    "outputId": "140779e0-461a-4dc6-c2c9-783cb65f6328"
   },
   "outputs": [
    {
     "name": "stdout",
     "output_type": "stream",
     "text": [
      "Expected utility is 0.610093-0.000466p\n"
     ]
    }
   ],
   "source": [
    "# from scipy.special import expit\n",
    "\n",
    "beta = [0.3212892703550074, 0.4767749032618438, -0.023165723309799064, -0.00046576011899774174] # from quesiton (a)\n",
    "\n",
    "x_a = [4, 3.2, 95] # from the problem description\n",
    "\n",
    "a = np.dot(beta[:3], x_a)\n",
    "b = beta[3]\n",
    "print('Expected utility is %f%fp' % (a,b))\n",
    "\n",
    "def R(p):\n",
    "    # watch for overflow!\n",
    "    return (p*np.exp(-a-b*p))/(np.exp(-a-b*p)+1)\n",
    "    # return p*np.exp(a+b*p)/(np.exp(a+b*p)+1)\n",
    "    # return p*expit(a+b*p)"
   ]
  },
  {
   "cell_type": "code",
   "execution_count": 12,
   "id": "2874961d",
   "metadata": {},
   "outputs": [
    {
     "name": "stdout",
     "output_type": "stream",
     "text": [
      "0.6100930574270187 -0.00046576011899774174\n"
     ]
    }
   ],
   "source": [
    "print(a,b)"
   ]
  },
  {
   "cell_type": "code",
   "execution_count": 13,
   "id": "dc66d62f",
   "metadata": {
    "id": "dc66d62f",
    "outputId": "32808b34-2a2a-4b8a-87e2-7699db629355"
   },
   "outputs": [
    {
     "data": {
      "image/png": "[encoded data removed]",
      "text/plain": [
       "<Figure size 432x288 with 1 Axes>"
      ]
     },
     "metadata": {
      "needs_background": "light"
     },
     "output_type": "display_data"
    }
   ],
   "source": [
    "import matplotlib.pyplot as plt\n",
    "# Plot revenue for n prices uniformly distributed between up and low.\n",
    "up = 5000\n",
    "low = 2500\n",
    "n = 1000\n",
    "price = np.array(range(0,n,1))/n*(up-low)+low\n",
    "\n",
    "revenue = [R(p) for p in price]\n",
    "# print(revenue)\n",
    "plt.plot(price,revenue)\n",
    "plt.xlabel(\"Price\")\n",
    "plt.ylabel(\"Revenue\")\n",
    "plt.show()"
   ]
  },
  {
   "cell_type": "code",
   "execution_count": 14,
   "id": "501a65d0",
   "metadata": {
    "id": "501a65d0",
    "outputId": "014d2d76-1e69-40ce-af21-3d71bc2a7116"
   },
   "outputs": [
    {
     "data": {
      "text/plain": [
       "(-0.7485692702871469,\n",
       " 1.386605922387987,\n",
       " 0.3891302638249232,\n",
       " 0.2518538974802951)"
      ]
     },
     "execution_count": 14,
     "metadata": {},
     "output_type": "execute_result"
    }
   ],
   "source": [
    "beta = [0.32343713764458615, 0.5201633882209148, -0.023956546654068895, -0.0005299884189021755]\n",
    "x_a = [4, 3.2, 95]\n",
    "x_b = [8, 2.9, 60]\n",
    "x_c = [8, 2.9, 95]\n",
    "x_d = [4, 2.9, 60]\n",
    "x_e = [4, 3.2, 60]\n",
    "x_f = [4, 3.2, 135]\n",
    "b = beta[3]\n",
    "\n",
    "u_a = np.dot(beta[:3], x_a)+2700*b\n",
    "u_b = np.dot(beta[:3], x_b)+2400*b\n",
    "u_c = np.dot(beta[:3], x_c)+2700*b\n",
    "u_d = np.dot(beta[:3], x_d)+2100*b\n",
    "u_e = np.dot(beta[:3], x_e)+2400*b\n",
    "u_f = np.dot(beta[:3], x_f)+2400*b\n",
    "\n",
    "\n",
    "u_a,u_b,u_c,u_d,"
   ]
  },
  {
   "cell_type": "code",
   "execution_count": 15,
   "id": "32c57bb7",
   "metadata": {
    "id": "32c57bb7",
    "outputId": "39de7e3e-2e66-4b1c-a9b7-cdf0bb1c987b"
   },
   "outputs": [
    {
     "data": {
      "image/png": "[encoded data removed]",
      "text/plain": [
       "<Figure size 432x288 with 1 Axes>"
      ]
     },
     "metadata": {
      "needs_background": "light"
     },
     "output_type": "display_data"
    },
    {
     "name": "stdout",
     "output_type": "stream",
     "text": [
      "Line A intersects Line B at x=2356.71343, y=162.38926\n",
      "Line A intersects Line C at x=2699.39880, y=0.28439\n",
      "Line A intersects Line D at x=1749.49900, y=449.62772\n",
      "Line A intersects Line E at x=2224.44890, y=224.95606\n",
      "Line A intersects Line F at x=2939.87976, y=-113.47341\n",
      "Line B intersects Line C at x=2224.44890, y=702.42322\n",
      "Line B intersects Line D at x=2537.07415, y=-548.46745\n",
      "Line B intersects Line E at x=2398.79760, y=4.81112\n",
      "Line B intersects Line F at x=2398.79760, y=4.81112\n",
      "Line C intersects Line F at x=2747.49499, y=-70.08820\n",
      "Line D intersects Line F at x=2038.07615, y=79.65934\n",
      "Line E intersects Line F at x=2398.79760, y=1.54223\n",
      "[2356.7134268537075, 2699.3987975951904, 1749.4989979959919, 2224.448897795591, 2939.879759519038, 2224.448897795591, 2537.074148296593, 2398.797595190381, 2398.797595190381, 2747.49498997996, 2038.0761523046092, 2398.797595190381]\n"
     ]
    }
   ],
   "source": [
    "beta = [0.32343713764458615, 0.5201633882209148, -0.023956546654068895, -0.0005299884189021755]\n",
    "x_a = [4, 3.2, 95]\n",
    "x_b = [8, 2.9, 60]\n",
    "x_c = [8, 2.9, 95]\n",
    "x_d = [4, 2.9, 60]\n",
    "x_e = [4, 3.2, 60]\n",
    "x_f = [4, 3.2, 135]\n",
    "b = beta[3]\n",
    "\n",
    "u_a = np.dot(beta[:3], x_a)+2700*b\n",
    "u_b = np.dot(beta[:3], x_b)+2400*b\n",
    "u_c = np.dot(beta[:3], x_c)+2700*b\n",
    "u_d = np.dot(beta[:3], x_d)+2100*b\n",
    "u_e = np.dot(beta[:3], x_e)+2400*b\n",
    "u_f = np.dot(beta[:3], x_f)+2400*b\n",
    "\n",
    "\n",
    "\n",
    "\n",
    "import numpy as np\n",
    "import matplotlib.pyplot as plt\n",
    "\n",
    "\n",
    "lamb_range = np.linspace(0, 3000, 500)\n",
    "\n",
    "\n",
    "w_a = np.exp(u_a)\n",
    "w_b = np.exp(u_b)\n",
    "w_c = np.exp(u_c)\n",
    "w_d = np.exp(u_d)\n",
    "w_e = np.exp(u_e)\n",
    "w_f = np.exp(u_f)\n",
    "\n",
    "y_a = w_a*(2700-lamb_range)\n",
    "y_b = w_b*(2400-lamb_range)\n",
    "y_c = w_c*(2700-lamb_range)\n",
    "y_d = w_d*(2100-lamb_range)\n",
    "y_e = w_e*(2400-lamb_range)\n",
    "y_f = w_f*(2400-lamb_range)\n",
    "\n",
    "\n",
    "plt.plot(lamb_range, y_a, label='Line A')\n",
    "plt.plot(lamb_range, y_b, label='Line B')\n",
    "plt.plot(lamb_range, y_c, label='Line C')\n",
    "plt.plot(lamb_range, y_d, label='Line D')\n",
    "plt.plot(lamb_range, y_e, label='Line E')\n",
    "plt.plot(lamb_range, y_f, label='Line F')\n",
    "\n",
    "\n",
    "\n",
    "plt.xlabel('Lambda')\n",
    "plt.ylabel('V(w-lamba)')\n",
    "plt.legend()\n",
    "#plt.ylim(0, 3000)\n",
    "\n",
    "plt.show()\n",
    "\n",
    "# Find the intersection points\n",
    "lines = [y_a, y_b, y_c, y_d, y_e, y_f]\n",
    "names = ['Line A', 'Line B', 'Line C', 'Line D', 'Line E', 'Line F']\n",
    "intersections = []\n",
    "lamb =[]\n",
    "for i in range(len(lines)):\n",
    "    for j in range(i+1, len(lines)):\n",
    "        x = np.argwhere(np.diff(np.sign(lines[i] - lines[j]))).flatten()\n",
    "        if len(x) > 0:\n",
    "            x = x[0]\n",
    "            intersections.append((names[i], names[j], lamb_range[x], lines[i][x]))\n",
    "            lamb.append(lamb_range[x])\n",
    "\n",
    "# Print the intersection points and which lines intersect\n",
    "for i in range(len(intersections)):\n",
    "    print(f\"{intersections[i][0]} intersects {intersections[i][1]} at x={intersections[i][2]:.5f}, y={intersections[i][3]:.5f}\")\n",
    "print (lamb)"
   ]
  },
  {
   "cell_type": "code",
   "execution_count": 16,
   "id": "5ce0fdd1",
   "metadata": {
    "id": "5ce0fdd1"
   },
   "outputs": [
    {
     "name": "stdout",
     "output_type": "stream",
     "text": [
      "2356.7134268537075\n"
     ]
    }
   ],
   "source": [
    "print(intersections[0][2]) # this is the x value"
   ]
  },
  {
   "cell_type": "markdown",
   "id": "3da3f502",
   "metadata": {},
   "source": [
    "We want to find the top 3 ranking line based on the x value, where x value is the intersection value - 0.1`"
   ]
  },
  {
   "cell_type": "code",
   "execution_count": 17,
   "id": "5a7b8b28",
   "metadata": {},
   "outputs": [
    {
     "name": "stdout",
     "output_type": "stream",
     "text": [
      "['c', 'a', 'f']\n",
      "[506.7344564134116, 162.4365684660685, 9.228674292816526]\n"
     ]
    }
   ],
   "source": [
    "    inter = intersections[0][2]\n",
    "    xCoordi = inter - 0.1\n",
    "    y_a = w_a*(2700-xCoordi)\n",
    "    y_b = w_b*(2400-xCoordi)\n",
    "    y_c = w_c*(2700-xCoordi)\n",
    "    y_d = w_d*(2100-xCoordi)\n",
    "    y_e = w_e*(2400-xCoordi)\n",
    "    y_f = w_f*(2400-xCoordi)\n",
    "    lineDic = {\n",
    "        y_a:\"a\",\n",
    "        y_b:\"b\",\n",
    "        y_c:\"c\",\n",
    "        y_d:\"d\",\n",
    "        y_e:\"e\",\n",
    "        y_f:\"f\",\n",
    "    }\n",
    "    \n",
    "    outPut = [y_a, y_b, y_c, y_d, y_e, y_f]\n",
    "    outPut.sort(reverse=True)\n",
    "    outPut = outPut[::2]\n",
    "    assort = [lineDic.get(i) for i in outPut]\n",
    "    print(assort)\n",
    "    print(outPut)"
   ]
  },
  {
   "cell_type": "code",
   "execution_count": 18,
   "id": "cb190853",
   "metadata": {},
   "outputs": [
    {
     "data": {
      "text/plain": [
       "[2356.7134268537075,\n",
       " 2699.3987975951904,\n",
       " 1749.4989979959919,\n",
       " 2224.448897795591,\n",
       " 2939.879759519038,\n",
       " 2224.448897795591,\n",
       " 2537.074148296593,\n",
       " 2398.797595190381,\n",
       " 2398.797595190381,\n",
       " 2747.49498997996,\n",
       " 2038.0761523046092,\n",
       " 2398.797595190381]"
      ]
     },
     "execution_count": 18,
     "metadata": {},
     "output_type": "execute_result"
    }
   ],
   "source": [
    "intersecX = [intersections[i][2] for i in range(len(intersections))]\n",
    "intersecX"
   ]
  },
  {
   "cell_type": "code",
   "execution_count": 33,
   "id": "24be2826",
   "metadata": {},
   "outputs": [],
   "source": [
    "def selectTop3(inter):\n",
    "    xCoordi = inter - 0.1\n",
    "    y_a = w_a*(2700-xCoordi)\n",
    "    y_b = w_b*(2400-xCoordi)\n",
    "    y_c = w_c*(2700-xCoordi)\n",
    "    y_d = w_d*(2100-xCoordi)\n",
    "    y_e = w_e*(2400-xCoordi)\n",
    "    y_f = w_f*(2400-xCoordi)\n",
    "    lineDic = {\n",
    "        y_a:\"a\",\n",
    "        y_b:\"b\",\n",
    "        y_c:\"c\",\n",
    "        y_d:\"d\",\n",
    "        y_e:\"e\",\n",
    "        y_f:\"f\",\n",
    "    }\n",
    "    \n",
    "    outPut = [y_a, y_b, y_c, y_d, y_e, y_f]\n",
    "    outPut.sort(reverse=True)\n",
    "    outPut = outPut[::2]\n",
    "    outPut = [i for i in outPut if i >=0]\n",
    "\n",
    "    assort = [lineDic.get(i) for i in outPut] #remove negative from list\n",
    "    print(\"For intersection x = \"+ str(inter))\n",
    "    print(\"Selected products are\")\n",
    "    print(assort)\n",
    "    print(\"Their y-values are\")\n",
    "    print(outPut)\n",
    "    print(\"____________________\")\n",
    "    return assort"
   ]
  },
  {
   "cell_type": "code",
   "execution_count": null,
   "id": "b42d2056",
   "metadata": {},
   "outputs": [],
   "source": [
    "#sum (wv)/ 1 + sum(v)"
   ]
  },
  {
   "cell_type": "code",
   "execution_count": 31,
   "id": "c2fe305b",
   "metadata": {},
   "outputs": [
    {
     "name": "stdout",
     "output_type": "stream",
     "text": [
      "For intersection x = 2699.3987975951904\n",
      "Selected products are\n",
      "['c']\n",
      "Their y-values are\n",
      "[1.0347621229951909]\n",
      "____________________\n"
     ]
    }
   ],
   "source": [
    "selectTop3(2699.3987975951904)"
   ]
  },
  {
   "cell_type": "code",
   "execution_count": 35,
   "id": "a29ab7a3",
   "metadata": {},
   "outputs": [
    {
     "name": "stdout",
     "output_type": "stream",
     "text": [
      "For intersection x = 2356.7134268537075\n",
      "Selected products are\n",
      "['c', 'a', 'f']\n",
      "Their y-values are\n",
      "[506.7344564134116, 162.4365684660685, 9.228674292816526]\n",
      "____________________\n",
      "For intersection x = 2699.3987975951904\n",
      "Selected products are\n",
      "['c']\n",
      "Their y-values are\n",
      "[1.0347621229951909]\n",
      "____________________\n",
      "For intersection x = 1749.4989979959919\n",
      "Selected products are\n",
      "['b', 'e', 'a']\n",
      "Their y-values are\n",
      "[2603.2149426302167, 834.4751317156617, 449.6750217433613]\n",
      "____________________\n",
      "For intersection x = 2224.448897795591\n",
      "Selected products are\n",
      "['b', 'e', 'f']\n",
      "Their y-values are\n",
      "[702.8233472428119, 225.29396080936587, 37.36240716575788]\n",
      "____________________\n",
      "For intersection x = 2939.879759519038\n",
      "Selected products are\n",
      "[]\n",
      "Their y-values are\n",
      "[]\n",
      "____________________\n",
      "For intersection x = 2224.448897795591\n",
      "Selected products are\n",
      "['b', 'e', 'f']\n",
      "Their y-values are\n",
      "[702.8233472428119, 225.29396080936587, 37.36240716575788]\n",
      "____________________\n",
      "For intersection x = 2537.074148296593\n",
      "Selected products are\n",
      "['c']\n",
      "Their y-values are\n",
      "[240.5767225763504]\n",
      "____________________\n",
      "For intersection x = 2398.797595190381\n",
      "Selected products are\n",
      "['c', 'b', 'f']\n",
      "Their y-values are\n",
      "[444.63098518476386, 5.211242606928553, 0.27703201506244707]\n",
      "____________________\n",
      "For intersection x = 2398.797595190381\n",
      "Selected products are\n",
      "['c', 'b', 'f']\n",
      "Their y-values are\n",
      "[444.63098518476386, 5.211242606928553, 0.27703201506244707]\n",
      "____________________\n",
      "For intersection x = 2747.49498997996\n",
      "Selected products are\n",
      "[]\n",
      "Their y-values are\n",
      "[]\n",
      "____________________\n",
      "For intersection x = 2038.0761523046092\n",
      "Selected products are\n",
      "['b', 'e', 'd']\n",
      "Their y-values are\n",
      "[1448.5466315087556, 464.33973673462117, 79.78797858571822]\n",
      "____________________\n",
      "For intersection x = 2398.797595190381\n",
      "Selected products are\n",
      "['c', 'b', 'f']\n",
      "Their y-values are\n",
      "[444.63098518476386, 5.211242606928553, 0.27703201506244707]\n",
      "____________________\n"
     ]
    }
   ],
   "source": [
    "bigS = []\n",
    "for i in intersecX:\n",
    "    bigS.append(selectTop3(i))"
   ]
  },
  {
   "cell_type": "code",
   "execution_count": 36,
   "id": "71110692",
   "metadata": {},
   "outputs": [
    {
     "data": {
      "text/plain": [
       "[['c', 'a', 'f'],\n",
       " ['c'],\n",
       " ['b', 'e', 'a'],\n",
       " ['b', 'e', 'f'],\n",
       " [],\n",
       " ['b', 'e', 'f'],\n",
       " ['c'],\n",
       " ['c', 'b', 'f'],\n",
       " ['c', 'b', 'f'],\n",
       " [],\n",
       " ['b', 'e', 'd'],\n",
       " ['c', 'b', 'f']]"
      ]
     },
     "execution_count": 36,
     "metadata": {},
     "output_type": "execute_result"
    }
   ],
   "source": [
    "bigS"
   ]
  },
  {
   "cell_type": "code",
   "execution_count": 42,
   "id": "ad6e7b9c",
   "metadata": {},
   "outputs": [],
   "source": [
    "bigS[0]\n",
    "wvlist = [] #[0] is the w; [1] is the v\n",
    "for i in bigS[0]:\n",
    "    if i == 'a':\n",
    "        w = 2700\n",
    "        v = w_a\n",
    "    elif i == 'b':\n",
    "        w = 2400\n",
    "        v = w_b\n",
    "    elif i == 'c':\n",
    "        w = 2700\n",
    "        v = w_c\n",
    "    elif i == 'd':\n",
    "        w = 2100\n",
    "        v = w_d\n",
    "    elif i == 'e':\n",
    "        w = 2400\n",
    "        v = w_e\n",
    "    elif i == 'f':\n",
    "        w = 2400\n",
    "        v = w_f\n",
    "    wvlist.append([w,v])\n"
   ]
  },
  {
   "cell_type": "code",
   "execution_count": 44,
   "id": "932bf1d9",
   "metadata": {},
   "outputs": [
    {
     "data": {
      "text/plain": [
       "[[2700, 1.4756967687188174],\n",
       " [2700, 0.47304286529824774],\n",
       " [2400, 0.21270807126663224]]"
      ]
     },
     "execution_count": 44,
     "metadata": {},
     "output_type": "execute_result"
    }
   ],
   "source": [
    "wvlist"
   ]
  },
  {
   "cell_type": "code",
   "execution_count": 47,
   "id": "5a59d668",
   "metadata": {},
   "outputs": [],
   "source": [
    "upper = 0\n",
    "lower = 1\n",
    "for i in wvlist:\n",
    "    nomi = i[0]*i[1]\n",
    "    upper += nomi\n",
    "    lower += i[1]"
   ]
  },
  {
   "cell_type": "code",
   "execution_count": 49,
   "id": "501a0cc2",
   "metadata": {},
   "outputs": [
    {
     "data": {
      "text/plain": [
       "3.1614477052836976"
      ]
     },
     "execution_count": 49,
     "metadata": {},
     "output_type": "execute_result"
    }
   ],
   "source": [
    "upper "
   ]
  },
  {
   "cell_type": "code",
   "execution_count": 50,
   "id": "1c379305",
   "metadata": {},
   "outputs": [
    {
     "data": {
      "text/plain": [
       "3.1614477052836976"
      ]
     },
     "execution_count": 50,
     "metadata": {},
     "output_type": "execute_result"
    }
   ],
   "source": [
    "lower"
   ]
  },
  {
   "cell_type": "code",
   "execution_count": null,
   "id": "3b4ac4b2",
   "metadata": {},
   "outputs": [],
   "source": [
    "bigS[0]\n",
    "wvlist = [] #[0] is the w; [1] is the v\n",
    "for i in bigS[0]:\n",
    "    if i == 'a':\n",
    "        w = 2700\n",
    "        v = w_a\n",
    "    elif i == 'b':\n",
    "        w = 2400\n",
    "        v = w_b\n",
    "    elif i == 'c':\n",
    "        w = 2700\n",
    "        v = w_c\n",
    "    elif i == 'd':\n",
    "        w = 2100\n",
    "        v = w_d\n",
    "    elif i == 'e':\n",
    "        w = 2400\n",
    "        v = w_e\n",
    "    elif i == 'f':\n",
    "        w = 2400\n",
    "        v = w_f\n",
    "    wvlist.append([w,v])\n",
    "upper = 0\n",
    "lower = 1\n",
    "for i in wvlist:\n",
    "    nomi = i[0]*i[1]\n",
    "    upper += nomi\n",
    "    lower += i[1]"
   ]
  },
  {
   "cell_type": "code",
   "execution_count": 62,
   "id": "e98bd981",
   "metadata": {},
   "outputs": [],
   "source": [
    "zList = []\n",
    "for j in bigS:\n",
    "    wvlist = [] #[0] is the w; [1] is the v\n",
    "    for i in j:\n",
    "        if i == 'a':\n",
    "            w = 2700\n",
    "            v = w_a\n",
    "        elif i == 'b':\n",
    "            w = 2400\n",
    "            v = w_b\n",
    "        elif i == 'c':\n",
    "            w = 2700\n",
    "            v = w_c\n",
    "        elif i == 'd':\n",
    "            w = 2100\n",
    "            v = w_d\n",
    "        elif i == 'e':\n",
    "            w = 2400\n",
    "            v = w_e\n",
    "        elif i == 'f':\n",
    "            w = 2400\n",
    "            v = w_f\n",
    "        wvlist.append([w,v])\n",
    "    upper = 0\n",
    "    lower = 1\n",
    "    for w in wvlist:\n",
    "        nomi = w[0]*w[1]\n",
    "        upper += nomi\n",
    "        lower += w[1]\n",
    "    Z = upper/lower\n",
    "    zList.append(Z)"
   ]
  },
  {
   "cell_type": "code",
   "execution_count": 60,
   "id": "8676eb9e",
   "metadata": {},
   "outputs": [
    {
     "data": {
      "text/plain": [
       "[1825.7763281167495,\n",
       " 1609.3979383439353,\n",
       " 2065.810745125672,\n",
       " 2030.574655548404,\n",
       " 0.0,\n",
       " 2030.574655548404,\n",
       " 1609.3979383439353,\n",
       " 2107.415097186814,\n",
       " 2107.415097186814,\n",
       " 0.0,\n",
       " 2031.9919844041149,\n",
       " 2107.415097186814]"
      ]
     },
     "execution_count": 60,
     "metadata": {},
     "output_type": "execute_result"
    }
   ],
   "source": [
    "zList"
   ]
  },
  {
   "cell_type": "code",
   "execution_count": 66,
   "id": "29d3b823",
   "metadata": {},
   "outputs": [
    {
     "data": {
      "text/html": [
       "<div>\n",
       "<style scoped>\n",
       "    .dataframe tbody tr th:only-of-type {\n",
       "        vertical-align: middle;\n",
       "    }\n",
       "\n",
       "    .dataframe tbody tr th {\n",
       "        vertical-align: top;\n",
       "    }\n",
       "\n",
       "    .dataframe thead th {\n",
       "        text-align: right;\n",
       "    }\n",
       "</style>\n",
       "<table border=\"1\" class=\"dataframe\">\n",
       "  <thead>\n",
       "    <tr style=\"text-align: right;\">\n",
       "      <th></th>\n",
       "      <th>assortment</th>\n",
       "      <th>Z</th>\n",
       "    </tr>\n",
       "  </thead>\n",
       "  <tbody>\n",
       "    <tr>\n",
       "      <th>0</th>\n",
       "      <td>[c, a, f]</td>\n",
       "      <td>1825.776328</td>\n",
       "    </tr>\n",
       "    <tr>\n",
       "      <th>1</th>\n",
       "      <td>[c]</td>\n",
       "      <td>1609.397938</td>\n",
       "    </tr>\n",
       "    <tr>\n",
       "      <th>2</th>\n",
       "      <td>[b, e, a]</td>\n",
       "      <td>2065.810745</td>\n",
       "    </tr>\n",
       "    <tr>\n",
       "      <th>3</th>\n",
       "      <td>[b, e, f]</td>\n",
       "      <td>2030.574656</td>\n",
       "    </tr>\n",
       "    <tr>\n",
       "      <th>4</th>\n",
       "      <td>[]</td>\n",
       "      <td>0.000000</td>\n",
       "    </tr>\n",
       "    <tr>\n",
       "      <th>5</th>\n",
       "      <td>[b, e, f]</td>\n",
       "      <td>2030.574656</td>\n",
       "    </tr>\n",
       "    <tr>\n",
       "      <th>6</th>\n",
       "      <td>[c]</td>\n",
       "      <td>1609.397938</td>\n",
       "    </tr>\n",
       "    <tr>\n",
       "      <th>7</th>\n",
       "      <td>[c, b, f]</td>\n",
       "      <td>2107.415097</td>\n",
       "    </tr>\n",
       "    <tr>\n",
       "      <th>8</th>\n",
       "      <td>[c, b, f]</td>\n",
       "      <td>2107.415097</td>\n",
       "    </tr>\n",
       "    <tr>\n",
       "      <th>9</th>\n",
       "      <td>[]</td>\n",
       "      <td>0.000000</td>\n",
       "    </tr>\n",
       "    <tr>\n",
       "      <th>10</th>\n",
       "      <td>[b, e, d]</td>\n",
       "      <td>2031.991984</td>\n",
       "    </tr>\n",
       "    <tr>\n",
       "      <th>11</th>\n",
       "      <td>[c, b, f]</td>\n",
       "      <td>2107.415097</td>\n",
       "    </tr>\n",
       "  </tbody>\n",
       "</table>\n",
       "</div>"
      ],
      "text/plain": [
       "   assortment            Z\n",
       "0   [c, a, f]  1825.776328\n",
       "1         [c]  1609.397938\n",
       "2   [b, e, a]  2065.810745\n",
       "3   [b, e, f]  2030.574656\n",
       "4          []     0.000000\n",
       "5   [b, e, f]  2030.574656\n",
       "6         [c]  1609.397938\n",
       "7   [c, b, f]  2107.415097\n",
       "8   [c, b, f]  2107.415097\n",
       "9          []     0.000000\n",
       "10  [b, e, d]  2031.991984\n",
       "11  [c, b, f]  2107.415097"
      ]
     },
     "execution_count": 66,
     "metadata": {},
     "output_type": "execute_result"
    }
   ],
   "source": [
    "result = {\n",
    "    \"assortment\" :bigS,\n",
    "    \"Z\" : zList\n",
    "}\n",
    "result = pd.DataFrame(data = result)\n",
    "result"
   ]
  },
  {
   "cell_type": "code",
   "execution_count": 70,
   "id": "eaec720c",
   "metadata": {},
   "outputs": [],
   "source": [
    "result = result.sort_values(by = ['assortment'],ascending=False)"
   ]
  },
  {
   "cell_type": "code",
   "execution_count": 71,
   "id": "2d37185b",
   "metadata": {},
   "outputs": [
    {
     "data": {
      "text/html": [
       "<div>\n",
       "<style scoped>\n",
       "    .dataframe tbody tr th:only-of-type {\n",
       "        vertical-align: middle;\n",
       "    }\n",
       "\n",
       "    .dataframe tbody tr th {\n",
       "        vertical-align: top;\n",
       "    }\n",
       "\n",
       "    .dataframe thead th {\n",
       "        text-align: right;\n",
       "    }\n",
       "</style>\n",
       "<table border=\"1\" class=\"dataframe\">\n",
       "  <thead>\n",
       "    <tr style=\"text-align: right;\">\n",
       "      <th></th>\n",
       "      <th>assortment</th>\n",
       "      <th>Z</th>\n",
       "    </tr>\n",
       "  </thead>\n",
       "  <tbody>\n",
       "    <tr>\n",
       "      <th>7</th>\n",
       "      <td>[c, b, f]</td>\n",
       "      <td>2107.415097</td>\n",
       "    </tr>\n",
       "    <tr>\n",
       "      <th>8</th>\n",
       "      <td>[c, b, f]</td>\n",
       "      <td>2107.415097</td>\n",
       "    </tr>\n",
       "    <tr>\n",
       "      <th>11</th>\n",
       "      <td>[c, b, f]</td>\n",
       "      <td>2107.415097</td>\n",
       "    </tr>\n",
       "    <tr>\n",
       "      <th>0</th>\n",
       "      <td>[c, a, f]</td>\n",
       "      <td>1825.776328</td>\n",
       "    </tr>\n",
       "    <tr>\n",
       "      <th>1</th>\n",
       "      <td>[c]</td>\n",
       "      <td>1609.397938</td>\n",
       "    </tr>\n",
       "    <tr>\n",
       "      <th>6</th>\n",
       "      <td>[c]</td>\n",
       "      <td>1609.397938</td>\n",
       "    </tr>\n",
       "    <tr>\n",
       "      <th>3</th>\n",
       "      <td>[b, e, f]</td>\n",
       "      <td>2030.574656</td>\n",
       "    </tr>\n",
       "    <tr>\n",
       "      <th>5</th>\n",
       "      <td>[b, e, f]</td>\n",
       "      <td>2030.574656</td>\n",
       "    </tr>\n",
       "    <tr>\n",
       "      <th>10</th>\n",
       "      <td>[b, e, d]</td>\n",
       "      <td>2031.991984</td>\n",
       "    </tr>\n",
       "    <tr>\n",
       "      <th>2</th>\n",
       "      <td>[b, e, a]</td>\n",
       "      <td>2065.810745</td>\n",
       "    </tr>\n",
       "    <tr>\n",
       "      <th>4</th>\n",
       "      <td>[]</td>\n",
       "      <td>0.000000</td>\n",
       "    </tr>\n",
       "    <tr>\n",
       "      <th>9</th>\n",
       "      <td>[]</td>\n",
       "      <td>0.000000</td>\n",
       "    </tr>\n",
       "  </tbody>\n",
       "</table>\n",
       "</div>"
      ],
      "text/plain": [
       "   assortment            Z\n",
       "7   [c, b, f]  2107.415097\n",
       "8   [c, b, f]  2107.415097\n",
       "11  [c, b, f]  2107.415097\n",
       "0   [c, a, f]  1825.776328\n",
       "1         [c]  1609.397938\n",
       "6         [c]  1609.397938\n",
       "3   [b, e, f]  2030.574656\n",
       "5   [b, e, f]  2030.574656\n",
       "10  [b, e, d]  2031.991984\n",
       "2   [b, e, a]  2065.810745\n",
       "4          []     0.000000\n",
       "9          []     0.000000"
      ]
     },
     "execution_count": 71,
     "metadata": {},
     "output_type": "execute_result"
    }
   ],
   "source": [
    "result"
   ]
  },
  {
   "cell_type": "code",
   "execution_count": 72,
   "id": "f0775ca8",
   "metadata": {},
   "outputs": [
    {
     "data": {
      "text/html": [
       "<div>\n",
       "<style scoped>\n",
       "    .dataframe tbody tr th:only-of-type {\n",
       "        vertical-align: middle;\n",
       "    }\n",
       "\n",
       "    .dataframe tbody tr th {\n",
       "        vertical-align: top;\n",
       "    }\n",
       "\n",
       "    .dataframe thead th {\n",
       "        text-align: right;\n",
       "    }\n",
       "</style>\n",
       "<table border=\"1\" class=\"dataframe\">\n",
       "  <thead>\n",
       "    <tr style=\"text-align: right;\">\n",
       "      <th></th>\n",
       "      <th>assortment</th>\n",
       "      <th>Z</th>\n",
       "    </tr>\n",
       "  </thead>\n",
       "  <tbody>\n",
       "    <tr>\n",
       "      <th>7</th>\n",
       "      <td>[c, b, f]</td>\n",
       "      <td>2107.415097</td>\n",
       "    </tr>\n",
       "  </tbody>\n",
       "</table>\n",
       "</div>"
      ],
      "text/plain": [
       "  assortment            Z\n",
       "7  [c, b, f]  2107.415097"
      ]
     },
     "execution_count": 72,
     "metadata": {},
     "output_type": "execute_result"
    }
   ],
   "source": [
    "result.head(1)"
   ]
  }
 ],
 "metadata": {
  "colab": {
   "provenance": []
  },
  "kernelspec": {
   "display_name": "Python 3",
   "language": "python",
   "name": "python3"
  },
  "language_info": {
   "codemirror_mode": {
    "name": "ipython",
    "version": 3
   },
   "file_extension": ".py",
   "mimetype": "text/x-python",
   "name": "python",
   "nbconvert_exporter": "python",
   "pygments_lexer": "ipython3",
   "version": "3.8.8"
  }
 },
 "nbformat": 4,
 "nbformat_minor": 5
}
